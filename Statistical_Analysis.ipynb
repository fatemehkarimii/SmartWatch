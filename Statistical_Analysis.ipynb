{
  "nbformat": 4,
  "nbformat_minor": 0,
  "metadata": {
    "colab": {
      "provenance": []
    },
    "kernelspec": {
      "name": "python3",
      "display_name": "Python 3"
    },
    "language_info": {
      "name": "python"
    }
  },
  "cells": [
    {
      "cell_type": "code",
      "execution_count": null,
      "metadata": {
        "id": "G7ep8lh7bx_6",
        "colab": {
          "base_uri": "https://localhost:8080/"
        },
        "outputId": "7afe03a9-26ee-4126-a717-008b42047e65"
      },
      "outputs": [
        {
          "output_type": "stream",
          "name": "stdout",
          "text": [
            "Mounted at /content/drive\n"
          ]
        }
      ],
      "source": [
        "#@title mount drive\n",
        "from google.colab import drive\n",
        "drive.mount('/content/drive')"
      ]
    },
    {
      "cell_type": "code",
      "execution_count": null,
      "metadata": {
        "id": "km22PfrlMPxb"
      },
      "outputs": [],
      "source": [
        "#@title load relevant packages\n",
        "\n",
        "import pandas as pd\n",
        "import matplotlib.pyplot as plt\n",
        "import numpy as np\n",
        "import datetime\n",
        "from time import strptime\n",
        "from scipy import stats\n",
        "import zipfile\n",
        "import json\n",
        "import os"
      ]
    },
    {
      "cell_type": "code",
      "source": [
        "%cd /content/drive/MyDrive/insight_data_analysis/Insight4wear Dataset 24 May 2021/result_pkl_file/pkl_files\n",
        "df = pd.read_pickle('./CleanHeartRate_24times.pkl')"
      ],
      "metadata": {
        "id": "2RuaC6UmjiiS"
      },
      "execution_count": null,
      "outputs": []
    },
    {
      "cell_type": "code",
      "source": [
        "def percent_value_counts(df, feature):\n",
        "    \"\"\"This function takes in a dataframe and a column and finds the percentage of the value_counts\"\"\"\n",
        "    percent = pd.DataFrame(round(df.loc[:,feature].value_counts(dropna=False, normalize=True)*100,2))\n",
        "    ## creating a df with th\n",
        "    total = pd.DataFrame(df.loc[:,feature].value_counts(dropna=False))\n",
        "    ## concating percent and total dataframe\n",
        "\n",
        "    total.columns = [\"Total\"]\n",
        "    percent.columns = ['Percent']\n",
        "    return pd.concat([total, percent], axis = 1)"
      ],
      "metadata": {
        "id": "Bf77XiG2jwd0"
      },
      "execution_count": null,
      "outputs": []
    },
    {
      "cell_type": "code",
      "source": [
        "df_covid = df.groupby(['user','covid'])['bpm'].mean().reset_index()\n",
        "df_weekend = df.groupby(['user','weekend'])['bpm'].mean().reset_index()\n",
        "df_day_name = df.groupby(['user','day-name'])['bpm'].mean().reset_index()\n",
        "df_month = df.groupby(['user','month'])['bpm'].mean().reset_index()\n",
        "df_day = df.groupby(['user','day'])['bpm'].mean().reset_index()\n",
        "df_time = df.groupby(['user','time'])['bpm'].mean().reset_index()"
      ],
      "metadata": {
        "id": "i21kEsqNjy1Y"
      },
      "execution_count": null,
      "outputs": []
    },
    {
      "cell_type": "code",
      "source": [
        "print(f\"percentage of users number:weekend(1) and weekdays(0){percent_value_counts(df_weekend, 'weekend')}\")\n",
        "print(\"_\"*50)\n",
        "print(f\"percentage of users number covid(1) and non_covid(0) {percent_value_counts(df_covid, 'covid')}\")\n",
        "print(\"_\"*50)\n",
        "print(f\"percentage of users number during a week{percent_value_counts(df_day_name, 'day-name')}\")\n",
        "print(\"_\"*50)\n",
        "print(f\"percentage of users number in the months of a year{percent_value_counts(df_month, 'month')}\")\n",
        "print(\"_\"*50)\n",
        "print(f\"percentage of users number on the days of a month{percent_value_counts(df_day, 'day')}\")\n",
        "print(\"_\"*50)\n",
        "print(f\"percentage of users number in the hours of a day{percent_value_counts(df_time, 'time')}\")"
      ],
      "metadata": {
        "id": "r9uNAHHnj1KD"
      },
      "execution_count": null,
      "outputs": []
    },
    {
      "cell_type": "code",
      "source": [
        "# print(df.groupby(\"month\")['bpm'].max().to_frame().reset_index())\n",
        "# print(df.groupby(\"month\")['bpm'].min().to_frame().reset_index())\n",
        "\n",
        "print(df.groupby(\"weekend\")['bpm'].mean().to_frame().reset_index())\n",
        "print(df.groupby(\"weekend\")['bpm'].std().to_frame().reset_index())\n",
        "print(df.groupby(\"covid\")['bpm'].mean().to_frame().reset_index())\n",
        "print(df.groupby(\"covid\")['bpm'].std().to_frame().reset_index())\n",
        "print(df.groupby(\"day-name\")['bpm'].mean().to_frame().reset_index())\n",
        "print(df.groupby(\"day-name\")['bpm'].std().to_frame().reset_index())\n",
        "print(df.groupby(\"month\")['bpm'].mean().to_frame().reset_index())\n",
        "print(df.groupby(\"month\")['bpm'].std().to_frame().reset_index())"
      ],
      "metadata": {
        "id": "7v7VPgp4j6en"
      },
      "execution_count": null,
      "outputs": []
    },
    {
      "cell_type": "code",
      "source": [
        "# print(df.groupby(\"year\")['bpm'].max().to_frame().reset_index())\n",
        "# print(df.groupby(\"year\")['bpm'].min().to_frame().reset_index())\n",
        "print(df.groupby(\"year\")['bpm'].mean().to_frame().reset_index())\n",
        "print(df.groupby(\"year\")['bpm'].std().to_frame().reset_index())"
      ],
      "metadata": {
        "id": "ISTG2Jynj-Ro"
      },
      "execution_count": null,
      "outputs": []
    },
    {
      "cell_type": "code",
      "source": [
        "print (\"The shape of the df data is (row, column):\"+ str(df.shape))\n",
        "print (df.info())"
      ],
      "metadata": {
        "id": "WYTbqpeKkCr0"
      },
      "execution_count": null,
      "outputs": []
    },
    {
      "cell_type": "code",
      "source": [
        "# Let's write a functin to print the total percentage of the missing values.(this can be a good exercise for beginners to try to write simple functions like this.)\n",
        "def missing_percentage(df):\n",
        "    \"\"\"This function takes a DataFrame(df) as input and returns two columns, total missing values and total missing values percentage\"\"\"\n",
        "    total = df.isnull().sum().sort_values(ascending = False)\n",
        "    percent = round(df.isnull().sum().sort_values(ascending = False)/len(df)*100,2)\n",
        "    return pd.concat([total, percent], axis=1, keys=['Total','Percent'])"
      ],
      "metadata": {
        "id": "ffs7gCi6kEoD"
      },
      "execution_count": null,
      "outputs": []
    },
    {
      "cell_type": "code",
      "source": [
        "def percent_value_counts(df, feature):\n",
        "    \"\"\"This function takes in a dataframe and a column and finds the percentage of the value_counts\"\"\"\n",
        "    percent = pd.DataFrame(round(df.loc[:,feature].value_counts(dropna=False, normalize=True)*100,2))\n",
        "    ## creating a df with th\n",
        "    total = pd.DataFrame(df.loc[:,feature].value_counts(dropna=False))\n",
        "    ## concating percent and total dataframe\n",
        "\n",
        "    total.columns = [\"Total\"]\n",
        "    percent.columns = ['Percent']\n",
        "    return pd.concat([total, percent], axis = 1)"
      ],
      "metadata": {
        "id": "aDmAwZXxkI4H"
      },
      "execution_count": null,
      "outputs": []
    },
    {
      "cell_type": "code",
      "source": [
        "plt.subplots(figsize = (15,10))\n",
        "sns.barplot(x = \"covid\",\n",
        "            y = \"bpm\",\n",
        "            data=df,\n",
        "            linewidth=6,\n",
        "            capsize = .05,\n",
        "            errcolor='blue',\n",
        "            errwidth = 3\n",
        "\n",
        "\n",
        "           )\n",
        "plt.title(\"Passenger Class Distribution - covid vs Non-covid\", fontsize = 25, pad=40)\n",
        "plt.xlabel(\"Socio-Economic class\", fontsize = 15);\n",
        "plt.ylabel(\"% of Passenger covid\", fontsize = 15);\n",
        "names = ['0', '1']\n",
        "#val = sorted(df.Pclass.unique())\n",
        "val = [0,1,2] ## this is just a temporary trick to get the label right.\n",
        "plt.xticks(val, names);"
      ],
      "metadata": {
        "id": "ANTqhAwOkNXW"
      },
      "execution_count": null,
      "outputs": []
    },
    {
      "cell_type": "code",
      "source": [
        "# Kernel Density Plot\n",
        "fig = plt.figure(figsize=(15,8),)\n",
        "## I have included to different ways to code a plot below, choose the one that suites you.\n",
        "ax=sns.kdeplot(df.bpm[df.covid == 0] ,\n",
        "               color='gray',\n",
        "               shade=True,\n",
        "               label='not covid')\n",
        "ax=sns.kdeplot(df.loc[(df['covid'] == 1),'bpm'] ,\n",
        "               color='g',\n",
        "               shade=True,\n",
        "               label='covid',\n",
        "              )\n",
        "plt.title('covid Distribution', fontsize = 25, pad = 40)\n",
        "plt.ylabel(\"Frequency of bpm\", fontsize = 15, labelpad = 20)\n",
        "plt.xlabel(\"covid\", fontsize = 15,labelpad =20)\n",
        "## Converting xticks into words for better understanding\n",
        "# labels = ['Upper', 'Middle', 'Lower']\n",
        "plt.xticks(sorted(df.bpm.unique()));"
      ],
      "metadata": {
        "id": "jhGK0CXokPhU"
      },
      "execution_count": null,
      "outputs": []
    },
    {
      "cell_type": "code",
      "source": [
        "pal = {1:\"seagreen\", 0:\"gray\"}\n",
        "g = sns.FacetGrid(df,size=5, col=\"covid\", row=\"weekend\", margin_titles=True, hue = \"weekend\",\n",
        "                  palette=pal)\n",
        "g = g.map(plt.hist, \"bpm\", edgecolor = 'white');\n",
        "g.fig.suptitle(\"Covid by weekend and bpm\", size = 25)\n",
        "plt.subplots_adjust(top=0.90)"
      ],
      "metadata": {
        "id": "nO57gJtrkab3"
      },
      "execution_count": null,
      "outputs": []
    },
    {
      "cell_type": "code",
      "source": [
        "pal = {1:\"seagreen\", 0:\"gray\"}\n",
        "g = sns.FacetGrid(df,size=5, col=\"day-name\", row=\"covid\", margin_titles=True, hue = \"covid\",\n",
        "                  palette=pal)\n",
        "g = g.map(plt.hist, \"bpm\", edgecolor = 'white');\n",
        "g.fig.suptitle(\"Covid by time and bpm\", size = 25)\n",
        "plt.subplots_adjust(top=0.90)\n",
        "plt.savefig('9.pdf',dpi=400)"
      ],
      "metadata": {
        "id": "EiAR8fy0kccl"
      },
      "execution_count": null,
      "outputs": []
    },
    {
      "cell_type": "code",
      "source": [
        "g = sns.FacetGrid(df,size=5, col=\"Sex\", row=\"Embarked\", margin_titles=True, hue = \"Survived\",\n",
        "                  palette = pal\n",
        "                  )\n",
        "g = g.map(plt.hist, \"Age\", edgecolor = 'white').add_legend();\n",
        "g.fig.suptitle(\"Survived by Sex and Age\", size = 25)\n",
        "plt.subplots_adjust(top=0.90)"
      ],
      "metadata": {
        "id": "izZwAOiwkelA"
      },
      "execution_count": null,
      "outputs": []
    },
    {
      "cell_type": "code",
      "source": [
        "g = sns.FacetGrid(df, size=5,hue=\"weekend\", col =\"time\", margin_titles=True,\n",
        "                palette=pal,)\n",
        "g.map(plt.scatter, \"weekend\", \"time\",edgecolor=\"w\").add_legend()\n",
        "g.fig.suptitle(\"Survived by Sex, Fare and Age\", size = 25)\n",
        "plt.subplots_adjust(top=0.85)"
      ],
      "metadata": {
        "id": "TtpLKdJykfLO"
      },
      "execution_count": null,
      "outputs": []
    },
    {
      "cell_type": "code",
      "source": [
        "df.describe()"
      ],
      "metadata": {
        "id": "kHq9O3Glki0W"
      },
      "execution_count": null,
      "outputs": []
    },
    {
      "cell_type": "code",
      "source": [
        "pd.DataFrame(abs(df.corr()['weekend']).sort_values(ascending = False))"
      ],
      "metadata": {
        "id": "CaIzfB0pkpTJ"
      },
      "execution_count": null,
      "outputs": []
    },
    {
      "cell_type": "code",
      "source": [
        "## get the most important variables.\n",
        "corr = df.corr()**2\n",
        "corr.weekend.sort_values(ascending=False)"
      ],
      "metadata": {
        "id": "hfeGGI2pkrU1"
      },
      "execution_count": null,
      "outputs": []
    },
    {
      "cell_type": "code",
      "source": [
        "## heatmeap to see the correlation between features.\n",
        "# Generate a mask for the upper triangle (taken from seaborn example gallery)\n",
        "import numpy as np\n",
        "mask = np.zeros_like(df.corr(), dtype=np.bool)\n",
        "mask[np.triu_indices_from(mask)] = True\n",
        "sns.set_style('whitegrid')\n",
        "plt.subplots(figsize = (15,12))\n",
        "sns.heatmap(df.corr(),\n",
        "            annot=True,\n",
        "            mask = mask,\n",
        "            cmap = 'RdBu', ## in order to reverse the bar replace \"RdBu\" with \"RdBu_r\"\n",
        "            linewidths=.9,\n",
        "            linecolor='white',\n",
        "            fmt='.2g',\n",
        "            center = 0,\n",
        "            square=True)\n",
        "plt.title(\"Correlations Among Features\", y = 1.03,fontsize = 20, pad = 40);"
      ],
      "metadata": {
        "id": "u9Vz0wquktRj"
      },
      "execution_count": null,
      "outputs": []
    },
    {
      "cell_type": "code",
      "source": [
        "#@title visualize\n",
        "# %cd '/content/drive/MyDrive/insight_data_analysis/Insight4wear Dataset 24 May 2021/pdf_output'\n",
        "import seaborn as sb\n",
        "plt.rcParams['figure.figsize'] = (18, 7)\n",
        "\n",
        "# df1 = df[df['time']== 0]\n",
        "plt.subplot(1, 2, 1)\n",
        "\n",
        "sb.countplot(df['weekend'], palette='pastel')\n",
        "plt.title('heart rate at nighe (7)', fontsize=20)\n",
        "plt.xlabel('weekdays                                      weekends', fontsize=15)\n",
        "plt.ylabel('number of reports', fontsize=15)\n",
        "# plt.savefig('3.pdf',dpi=400)"
      ],
      "metadata": {
        "id": "55qr5sy3kvWk"
      },
      "execution_count": null,
      "outputs": []
    }
  ]
}