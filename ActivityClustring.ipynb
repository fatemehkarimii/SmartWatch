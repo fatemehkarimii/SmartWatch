{
  "nbformat": 4,
  "nbformat_minor": 0,
  "metadata": {
    "colab": {
      "provenance": []
    },
    "kernelspec": {
      "name": "python3",
      "display_name": "Python 3"
    },
    "language_info": {
      "name": "python"
    }
  },
  "cells": [
    {
      "cell_type": "code",
      "execution_count": null,
      "metadata": {
        "id": "G7ep8lh7bx_6",
        "colab": {
          "base_uri": "https://localhost:8080/"
        },
        "outputId": "3d8b0c56-0f38-4988-a000-3c2b1c133874"
      },
      "outputs": [
        {
          "output_type": "stream",
          "name": "stdout",
          "text": [
            "Drive already mounted at /content/drive; to attempt to forcibly remount, call drive.mount(\"/content/drive\", force_remount=True).\n"
          ]
        }
      ],
      "source": [
        "#@title mount drive\n",
        "from google.colab import drive\n",
        "drive.mount('/content/drive')"
      ]
    },
    {
      "cell_type": "code",
      "execution_count": null,
      "metadata": {
        "id": "km22PfrlMPxb"
      },
      "outputs": [],
      "source": [
        "#@title load relevant packages\n",
        "\n",
        "import pandas as pd\n",
        "import matplotlib.pyplot as plt\n",
        "import numpy as np\n",
        "import datetime\n",
        "from time import strptime\n",
        "from scipy import stats\n",
        "import zipfile\n",
        "import json\n",
        "import os"
      ]
    },
    {
      "cell_type": "code",
      "execution_count": null,
      "metadata": {
        "id": "MVeVe9LIzrT8"
      },
      "outputs": [],
      "source": [
        "#@title make .pkl file\n",
        "path = '/content/drive/MyDrive/insight_data_analysis/Insight4wear Dataset 24 May 2021/dataset/final_data'\n",
        "users_list = []\n",
        "user_activity_list = []\n",
        "for root, directories, files in os.walk(path):\n",
        "  for user in directories:\n",
        "      folder = path + '/' + user\n",
        "      for root, directories, files in os.walk(folder):\n",
        "        for file in files:\n",
        "          if file.startswith('w') and file.endswith('.zip'):\n",
        "            zip = folder + '/' + file\n",
        "            try:\n",
        "                with zipfile.ZipFile(zip) as z:\n",
        "                    folder_list = z.namelist()\n",
        "                    activity_file = [x for x in folder_list if x.startswith('Activity/')]\n",
        "                    if len(activity_file) == 1:\n",
        "                        activity_file = activity_file[0]\n",
        "                        for i in range(int(np.floor((len(z.open(activity_file).read()))/len((z.open(activity_file)).readlines())))):\n",
        "                            with z.open(activity_file) as f:\n",
        "                                data = f.readlines()[i]\n",
        "                                data = json.loads(data)\n",
        "                                lst = [user, data['sensor_name'], data['timestamp'],\n",
        "                                        data['time_stamp'], data['sensor_data']['step_counts'],\n",
        "                                        data['sensor_data']['step_delta']]\n",
        "                                user_activity_list.append(lst)\n",
        "\n",
        "            except Exception as e:\n",
        "                print(e)\n",
        "\n",
        "user_activity_df = pd.DataFrame(user_activity_list,\n",
        "                                columns = ['user', 'sensor_name', 'timestamp',\n",
        "                                           'time_stamp', 'step_counts', 'step_delta'])\n"
      ]
    },
    {
      "cell_type": "code",
      "source": [
        "%cd /content/drive/MyDrive/insight_data_analysis/Insight4wear Dataset 24 May 2021/result_pkl_file/pkl_files\n",
        "\n",
        "user_activity_df = pd.DataFrame(user_activity_list,\n",
        "                                columns = ['user', 'sensor_name', 'timestamp',\n",
        "                                           'time_stamp', 'step_counts', 'step_delta'])\n",
        "\n",
        "user_activity_df.to_pickle('./Activity.pkl')\n",
        "Activity = pd.read_pickle(r'Activity.pkl')"
      ],
      "metadata": {
        "id": "Uk7Rkbbvz2o5"
      },
      "execution_count": null,
      "outputs": []
    },
    {
      "cell_type": "code",
      "source": [
        "df.info()\n",
        "df.describe()"
      ],
      "metadata": {
        "id": "py-IK1MeaQbY"
      },
      "execution_count": null,
      "outputs": []
    },
    {
      "cell_type": "code",
      "source": [
        "df['day-name'].value_counts()\n",
        "df['month'].value_counts()\n",
        "df['weekend'].value_counts()\n",
        "df['covid'].value_counts()\n",
        "df['time'].value_counts()"
      ],
      "metadata": {
        "id": "_Y60Ecnuan_y"
      },
      "execution_count": null,
      "outputs": []
    },
    {
      "cell_type": "code",
      "source": [
        "#@title vizualization\n",
        "import seaborn as sb\n",
        "for i in range(0,9):\n",
        "  sb.catplot(x=df.columns[i], y=\"step_counts\", kind=\"bar\", data=df)\n",
        "  plt.xlabel('activity in the morning', fontsize=15)\n",
        "  plt.xticks(rotation = 90)\n"
      ],
      "metadata": {
        "id": "JWc-1TT3oOZR"
      },
      "execution_count": null,
      "outputs": []
    },
    {
      "cell_type": "code",
      "source": [
        "#@title vizualization\n",
        "import seaborn as sb\n",
        "plt.rcParams['figure.figsize'] = (18, 7)\n",
        "\n",
        "plt.subplot(1, 2, 1)\n",
        "\n",
        "sb.countplot(dff['time'], palette='pastel')\n",
        "plt.title('heart rate  ', fontsize=20)\n",
        "plt.xlabel('morning               afternoon                     night', fontsize=15)\n",
        "plt.ylabel('number of users', fontsize=15)"
      ],
      "metadata": {
        "cellView": "form",
        "id": "j9MBBapBp8Cb"
      },
      "execution_count": null,
      "outputs": []
    },
    {
      "cell_type": "code",
      "source": [
        "#@title heatmap\n",
        "newdf = dff\n",
        "# newdf.drop(newdf.columns[0], inplace=True, axis=1)\n",
        "\n",
        "\n",
        "corr = newdf.corr().round(2)\n",
        "mask = np.zeros_like(corr)\n",
        "mask[np.triu_indices_from(mask)] = True\n",
        "plt.rcParams['figure.figsize'] = (18, 7)\n",
        "with sb.axes_style(\"white\"):\n",
        "    fig, ax = plt.subplots(figsize=(13,13))\n",
        "    sb.heatmap(ax=ax, data=corr, mask=mask, annot=True, center=0, vmin=-1, vmax=1, cmap=\"RdBu_r\")\n",
        "    plt.show()\n"
      ],
      "metadata": {
        "id": "kv97k8L9qPXp"
      },
      "execution_count": null,
      "outputs": []
    },
    {
      "cell_type": "code",
      "source": [
        "import matplotlib.pyplot as plt\n",
        "import numpy as np\n",
        "\n",
        "data = active.groupby(['user', 'weekend'])['step_counts'].max().reset_index()\n",
        "df_copy = data.drop(['user'], axis = 1)\n",
        "\n",
        "x= df[df['weekend']==0]\n",
        "y = df[df['weekend']==1]\n",
        "\n",
        "ypoints = np.array([ 0,1.2e6])\n",
        "xpoints = np.array([ 0,1.2e6])\n",
        "\n",
        "plt.scatter(x, y, c='green')\n",
        "plt.plot(ypoints,xpoints,color = 'r')\n",
        "\n",
        "# plt.gca().invert_yaxis()\n",
        "plt.show()"
      ],
      "metadata": {
        "id": "ovzIG00P0_vQ"
      },
      "execution_count": null,
      "outputs": []
    },
    {
      "cell_type": "markdown",
      "source": [
        "clustring"
      ],
      "metadata": {
        "id": "O1H-7i5yqXS7"
      }
    },
    {
      "cell_type": "code",
      "source": [
        "#@title optics\n",
        "from sklearn.datasets import make_blobs\n",
        "from sklearn.cluster import OPTICS\n",
        "import numpy as np\n",
        "import matplotlib.pyplot as plt\n",
        "\n",
        "X = df_copy\n",
        "\n",
        "# Configuration options\n",
        "num_samples_total = 1000\n",
        "cluster_centers = [(3,3), (7,7)]\n",
        "num_classes = len(cluster_centers)\n",
        "epsilon =  1000000\n",
        "min_samples = 35\n",
        "cluster_method = 'xi'\n",
        "metric = 'minkowski'\n",
        "\n",
        "# Generate data\n",
        "# X, y = make_blobs(n_samples = num_samples_total, centers = cluster_centers, n_features = num_classes, center_box=(0, 1), cluster_std = 0.5)\n",
        "\n",
        "# Compute OPTICS\n",
        "db = OPTICS(max_eps=epsilon, min_samples=min_samples, cluster_method=cluster_method, metric=metric).fit(X)\n",
        "labels = db.labels_\n",
        "\n",
        "no_clusters = len(np.unique(labels) )\n",
        "no_noise = np.sum(np.array(labels) == -1, axis=0)\n",
        "\n",
        "print('Estimated no. of clusters: %d' % no_clusters)\n",
        "print('Estimated no. of noise points: %d' % no_noise)\n",
        "\n",
        "# Generate scatter plot for training data\n",
        "colors = list(map(lambda x: '#3b4cc0' if x == 1 else '#b40426', labels))\n",
        "plt.scatter(X[:,0], X[:,1], c=colors, marker=\"o\", picker=True)\n",
        "plt.title(f'OPTICS clustering')\n",
        "plt.xlabel('Axis X[0]')\n",
        "plt.ylabel('Axis X[1]')\n",
        "plt.show()"
      ],
      "metadata": {
        "id": "EQGJFpb4qZ0-"
      },
      "execution_count": null,
      "outputs": []
    },
    {
      "cell_type": "code",
      "source": [
        "#@title K-meas\n",
        "import pandas as pd\n",
        "import numpy as np\n",
        "import matplotlib.pyplot as plt\n",
        "import seaborn as sns\n",
        "from sklearn.cluster import KMeans\n",
        "\n",
        "X = df_copy\n",
        "\n",
        "kmeans = KMeans(n_clusters = 2, max_iter = 600, random_state = 0)\n",
        "label = kmeans.fit_predict(X)\n",
        "print(label)\n",
        "XX= kmeans.fit(X)\n",
        "\n",
        "\n",
        "#Getting unique labels\n",
        "\n",
        "u_labels = np.unique(label)\n",
        "\n",
        "#plotting the results:\n",
        "\n",
        "\n",
        "for i in u_labels:\n",
        "    plt.scatter(X[label == i , 0] , X[label == i , 1] , label = i)\n",
        "plt.legend()\n",
        "plt.show()"
      ],
      "metadata": {
        "id": "RJ6fkZP81L1k"
      },
      "execution_count": null,
      "outputs": []
    },
    {
      "cell_type": "code",
      "source": [
        "X = pd.DataFrame(X)\n",
        "X1 = X[kmeans.labels_== 0]\n",
        "X1['compare'] = 0\n",
        "for index, row in X1.iterrows():\n",
        "    # print('Processed Row: ' + str(index))\n",
        "    # print(X.loc[index,1])\n",
        "    if X1.loc[index,1] >= X1.loc[index,0]:\n",
        "       X1.loc[index,'compare'] = 1\n",
        "\n",
        "print(X1['compare'].sum()/179)\n",
        "\n",
        "\n",
        "X2 = X[kmeans.labels_==1]\n",
        "X2['compare'] = 0\n",
        "for index, row in X2.iterrows():\n",
        "    # print('Processed Row: ' + str(index))\n",
        "    # print(X.loc[index,1])\n",
        "    if X2.loc[index,1] >= X2.loc[index,0]:\n",
        "       X2.loc[index,'compare'] = 1\n",
        "print(X2['compare'].sum()/125)"
      ],
      "metadata": {
        "id": "IpTwSPur1gIN"
      },
      "execution_count": null,
      "outputs": []
    },
    {
      "cell_type": "code",
      "source": [
        "#@title DBscan\n",
        "import pandas as pd\n",
        "import numpy as np\n",
        "import matplotlib.pyplot as plt\n",
        "import seaborn as sns\n",
        "from sklearn.cluster import DBSCAN\n",
        "\n",
        "X_principal = df_copy\n",
        "X_principal = pd.DataFrame(X_principal)\n",
        "X_principal.columns = ['P1', 'P2']\n",
        "\n",
        "db_default = DBSCAN(eps = 180000, min_samples =80).fit(X_principal)\n",
        "labels = db_default.labels_\n",
        "\n",
        "# print(labels)\n",
        "# Building the label to colour mapping\n",
        "colours = {}\n",
        "colours[0] = 'r'\n",
        "colours[1] = 'g'\n",
        "colours[2] = 'b'\n",
        "colours[-1] = 'k'\n",
        "\n",
        "# Building the colour vector for each data point\n",
        "cvec = [colours[label] for label in labels]\n",
        "\n",
        "# For the construction of the legend of the plot\n",
        "r = plt.scatter(X_principal['P1'], X_principal['P2'], color ='r');\n",
        "g = plt.scatter(X_principal['P1'], X_principal['P2'], color ='g');\n",
        "b = plt.scatter(X_principal['P1'], X_principal['P2'], color ='b');\n",
        "k = plt.scatter(X_principal['P1'], X_principal['P2'], color ='k');\n",
        "\n",
        "# Plotting P1 on the X-Axis and P2 on the Y-Axis\n",
        "# according to the colour vector defined\n",
        "# plt.figure(figsize =(9, 9))\n",
        "plt.scatter(X_principal['P1'], X_principal['P2'], c = cvec)\n",
        "\n",
        "# Building the legend\n",
        "plt.legend((r, g, b, k), ('Label 0', 'Label 1', 'Label 2', 'Label -1'))\n",
        "\n",
        "plt.show()\n"
      ],
      "metadata": {
        "id": "to54N-mp1q12"
      },
      "execution_count": null,
      "outputs": []
    },
    {
      "cell_type": "code",
      "source": [
        "#@title Agglomerative\n",
        "import pandas as pd\n",
        "import numpy as np\n",
        "import matplotlib.pyplot as plt\n",
        "import seaborn as sns\n",
        "from sklearn.cluster import AgglomerativeClustering\n",
        "\n",
        "X = df_copy\n",
        "clustering = AgglomerativeClustering( )\n",
        "labell = clustering.fit_predict(X)\n",
        "# print(label)\n",
        "clustering.fit(X)\n",
        "\n",
        "\n",
        "#Getting unique labels\n",
        "\n",
        "u_labels = np.unique(labell)\n",
        "\n",
        "#plotting the results:\n",
        "\n",
        "for i in u_labels:\n",
        "    plt.scatter(X[label == i , 0] , X[label == i , 1] , label = i)\n",
        "plt.legend()\n",
        "plt.show()"
      ],
      "metadata": {
        "id": "SBPMm3Kh1_ia"
      },
      "execution_count": null,
      "outputs": []
    },
    {
      "cell_type": "code",
      "source": [
        "#@title SpectralClustering\n",
        "import pandas as pd\n",
        "import numpy as np\n",
        "import matplotlib.pyplot as plt\n",
        "import seaborn as sns\n",
        "from sklearn.cluster import SpectralClustering\n",
        "\n",
        "X = df_copy\n",
        "cluster = SpectralClustering(n_clusters= 8 , assign_labels='discretize',random_state=0).fit(X)\n",
        "labelll = clustering.fit_predict(X)\n",
        "print(label)\n",
        "\n",
        "\n",
        "#Getting unique labels\n",
        "\n",
        "u_labels = np.unique(labelll)\n",
        "\n",
        "#plotting the results:\n",
        "\n",
        "for i in u_labels:\n",
        "    plt.scatter(X[label == i , 0] , X[label == i , 1] , label = i)\n",
        "plt.legend()\n",
        "plt.show()"
      ],
      "metadata": {
        "id": "xkJxVr2i2ECa"
      },
      "execution_count": null,
      "outputs": []
    },
    {
      "cell_type": "code",
      "source": [
        "#@title clustring \"time\"\n",
        "# Code source: Gaël Varoquaux\n",
        "# Modified for documentation by Jaques Grobler\n",
        "\n",
        "import numpy as np\n",
        "import matplotlib.pyplot as plt\n",
        "\n",
        "# Though the following import is not directly being used, it is required\n",
        "# for 3D projection to work\n",
        "from mpl_toolkits.mplot3d import Axes3D\n",
        "\n",
        "from sklearn.cluster import KMeans\n",
        "# from sklearn import datasets\n",
        "\n",
        "# np.random.seed(5)\n",
        "\n",
        "# iris = datasets.load_iris()\n",
        "# X = iris.data\n",
        "# y = iris.target\n",
        "print(X.shape)\n",
        "estimators = [\n",
        "    (\"k_means_iris_8\", KMeans(n_clusters=8)),\n",
        "    (\"k_means_iris_3\", KMeans(n_clusters=3)),\n",
        "    (\"k_means_iris_bad_init\", KMeans(n_clusters=3, n_init=1, init=\"random\")),\n",
        "]\n",
        "\n",
        "fignum = 1\n",
        "titles = [\"8 clusters\", \"3 clusters\", \"3 clusters, bad initialization\"]\n",
        "for name, est in estimators:\n",
        "    fig = plt.figure(fignum, figsize=(4, 3))\n",
        "    ax = Axes3D(fig, rect=[0, 0, 0.95, 1], elev=48, azim=134)\n",
        "    est.fit(X)\n",
        "    labels = est.labels_\n",
        "\n",
        "    ax.scatter(X[:, 2], X[:, 0], X[:, 1], c=labels.astype(float), edgecolor=\"k\")\n",
        "\n",
        "    ax.w_xaxis.set_ticklabels([])\n",
        "    ax.w_yaxis.set_ticklabels([])\n",
        "    ax.w_zaxis.set_ticklabels([])\n",
        "    ax.set_xlabel(\"time 0\")\n",
        "    ax.set_ylabel(\"time 1\")\n",
        "    ax.set_zlabel(\"time 2\")\n",
        "    ax.set_title(titles[fignum - 1])\n",
        "    ax.dist = 12\n",
        "    fignum = fignum + 1\n",
        "\n",
        "# Plot the ground truth\n",
        "fig = plt.figure(fignum, figsize=(4, 3))\n",
        "ax = Axes3D(fig, rect=[0, 0, 0.95, 1], elev=48, azim=134)\n",
        "\n",
        "for name, label in [(\"Setosa\", 0), (\"Versicolour\", 1), (\"Virginica\", 2)]:\n",
        "    ax.text3D(\n",
        "        X[y == label, 2].mean(),\n",
        "        X[y == label, 0].mean(),\n",
        "        X[y == label, 1].mean(),\n",
        "        name,\n",
        "        horizontalalignment=\"center\",\n",
        "        bbox=dict(alpha=0.2, edgecolor=\"w\", facecolor=\"w\"),\n",
        "    )\n",
        "# Reorder the labels to have colors matching the cluster results\n",
        "y = np.choose(y, [1, 2, 0]).astype(float)\n",
        "ax.scatter(X[:,2], X[:, 0], X[:, 1], c=y, edgecolor=\"k\")\n",
        "\n",
        "ax.w_xaxis.set_ticklabels([])\n",
        "ax.w_yaxis.set_ticklabels([])\n",
        "ax.w_zaxis.set_ticklabels([])\n",
        "ax.set_xlabel(\"time 0\")\n",
        "ax.set_ylabel(\"time 1\")\n",
        "ax.set_zlabel(\"time 2\")\n",
        "ax.set_title(\"Ground Truth\")\n",
        "ax.dist = 12\n",
        "\n",
        "fig.show()"
      ],
      "metadata": {
        "id": "35mjsi8A2MRw"
      },
      "execution_count": null,
      "outputs": []
    }
  ]
}